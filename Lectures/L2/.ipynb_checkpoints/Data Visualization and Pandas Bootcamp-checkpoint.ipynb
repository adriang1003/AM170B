{
 "cells": [
  {
   "cell_type": "markdown",
   "id": "eb350c99",
   "metadata": {
    "slideshow": {
     "slide_type": "slide"
    }
   },
   "source": [
    " # Data Visualization and Pandas Bootcamp\n",
    " By: Adrian Garcia<br>\n",
    " UCSC: AM-170B"
   ]
  },
  {
   "cell_type": "markdown",
   "id": "8e294dd7",
   "metadata": {
    "slideshow": {
     "slide_type": "slide"
    }
   },
   "source": [
    "## Data Structures\n",
    "\n",
    "- A container for holding several data objects. Data structures allow you to handle large amounts of data and keep everything organized.\n",
    "\n",
    "- Some standard examples include:\n",
    "    - Lists\n",
    "    - Sets\n",
    "    - Tuples\n",
    "    - Dictionaries"
   ]
  },
  {
   "cell_type": "markdown",
   "id": "85cdba3b",
   "metadata": {
    "slideshow": {
     "slide_type": "fragment"
    }
   },
   "source": [
    "- Data Frames"
   ]
  },
  {
   "cell_type": "markdown",
   "id": "47b18504",
   "metadata": {
    "slideshow": {
     "slide_type": "slide"
    }
   },
   "source": [
    "## What are Data Frames?\n",
    "- A type of data structure that organizes data into a 2D table of rows and columns, often of varying data type.\n",
    "- These rows and columns are typically named (e.g. rows = samples, columns = characteristics).\n",
    "- However, some other examples include:\n",
    "    - rows = items, columns = properties\n",
    "    - rows = observations, columns = variables\n",
    "    - etc..."
   ]
  },
  {
   "cell_type": "markdown",
   "id": "bb2b91bf",
   "metadata": {
    "slideshow": {
     "slide_type": "slide"
    }
   },
   "source": [
    "## Example: Creating a Data Frame"
   ]
  },
  {
   "cell_type": "code",
   "execution_count": 1,
   "id": "07575536",
   "metadata": {
    "slideshow": {
     "slide_type": "-"
    }
   },
   "outputs": [
    {
     "data": {
      "text/html": [
       "<div>\n",
       "<style scoped>\n",
       "    .dataframe tbody tr th:only-of-type {\n",
       "        vertical-align: middle;\n",
       "    }\n",
       "\n",
       "    .dataframe tbody tr th {\n",
       "        vertical-align: top;\n",
       "    }\n",
       "\n",
       "    .dataframe thead th {\n",
       "        text-align: right;\n",
       "    }\n",
       "</style>\n",
       "<table border=\"1\" class=\"dataframe\">\n",
       "  <thead>\n",
       "    <tr style=\"text-align: right;\">\n",
       "      <th></th>\n",
       "      <th>a</th>\n",
       "      <th>b</th>\n",
       "      <th>c</th>\n",
       "    </tr>\n",
       "  </thead>\n",
       "  <tbody>\n",
       "    <tr>\n",
       "      <th>0</th>\n",
       "      <td>1</td>\n",
       "      <td>1.0</td>\n",
       "      <td>1</td>\n",
       "    </tr>\n",
       "    <tr>\n",
       "      <th>1</th>\n",
       "      <td>2</td>\n",
       "      <td>2.0</td>\n",
       "      <td>2</td>\n",
       "    </tr>\n",
       "    <tr>\n",
       "      <th>2</th>\n",
       "      <td>3</td>\n",
       "      <td>3.0</td>\n",
       "      <td>3</td>\n",
       "    </tr>\n",
       "  </tbody>\n",
       "</table>\n",
       "</div>"
      ],
      "text/plain": [
       "   a    b  c\n",
       "0  1  1.0  1\n",
       "1  2  2.0  2\n",
       "2  3  3.0  3"
      ]
     },
     "execution_count": 1,
     "metadata": {},
     "output_type": "execute_result"
    }
   ],
   "source": [
    "# Import pandas package\n",
    "import pandas as pd\n",
    "# Create Data\n",
    "data = pd.DataFrame({'a':[1, 2, 3],\n",
    "                     'b':[1.0, 2.0, 3.0],\n",
    "                     'c':['1', '2', '3']})\n",
    "data"
   ]
  },
  {
   "cell_type": "code",
   "execution_count": 2,
   "id": "268aa980",
   "metadata": {
    "slideshow": {
     "slide_type": "slide"
    }
   },
   "outputs": [
    {
     "name": "stdout",
     "output_type": "stream",
     "text": [
      "<class 'pandas.core.frame.DataFrame'>\n",
      "RangeIndex: 3 entries, 0 to 2\n",
      "Data columns (total 3 columns):\n",
      " #   Column  Non-Null Count  Dtype  \n",
      "---  ------  --------------  -----  \n",
      " 0   a       3 non-null      int64  \n",
      " 1   b       3 non-null      float64\n",
      " 2   c       3 non-null      object \n",
      "dtypes: float64(1), int64(1), object(1)\n",
      "memory usage: 200.0+ bytes\n"
     ]
    }
   ],
   "source": [
    "data.info()"
   ]
  },
  {
   "cell_type": "markdown",
   "id": "66487d1c",
   "metadata": {
    "slideshow": {
     "slide_type": "slide"
    }
   },
   "source": [
    "## Breaking Down `.info()`\n",
    "- `int64` is numeric integer values\n",
    "- `object` strings (letters and numbers)\n",
    "- `float64` floating-point values\n"
   ]
  },
  {
   "cell_type": "code",
   "execution_count": 3,
   "id": "5561956e",
   "metadata": {
    "slideshow": {
     "slide_type": "-"
    }
   },
   "outputs": [
    {
     "data": {
      "text/plain": [
       "a      int64\n",
       "b    float64\n",
       "c     object\n",
       "dtype: object"
      ]
     },
     "execution_count": 3,
     "metadata": {},
     "output_type": "execute_result"
    }
   ],
   "source": [
    "data.dtypes"
   ]
  },
  {
   "cell_type": "markdown",
   "id": "7f3870f9",
   "metadata": {
    "slideshow": {
     "slide_type": "slide"
    }
   },
   "source": [
    "## Loading Data\n",
    "- A much more common practice is loading in an existing data set. To do so, we implement attribute `.read_csv()`.\n",
    "<br>\n",
    "<br>\n",
    "\n",
    "<font color='red'>NOTE</font>: `.read_csv()` has quite a few optional arguements for data cleaning. To see the full list of arguements, see https://pandas.pydata.org/docs/reference/api/pandas.read_csv.html."
   ]
  },
  {
   "cell_type": "markdown",
   "id": "ae9a146f",
   "metadata": {
    "slideshow": {
     "slide_type": "slide"
    }
   },
   "source": [
    "## Example: Loading Data"
   ]
  },
  {
   "cell_type": "code",
   "execution_count": 4,
   "id": "93c8a324",
   "metadata": {
    "slideshow": {
     "slide_type": "-"
    }
   },
   "outputs": [
    {
     "name": "stdout",
     "output_type": "stream",
     "text": [
      "<class 'pandas.core.frame.DataFrame'>\n",
      "RangeIndex: 53940 entries, 0 to 53939\n",
      "Data columns (total 10 columns):\n",
      " #   Column   Non-Null Count  Dtype  \n",
      "---  ------   --------------  -----  \n",
      " 0   carat    53940 non-null  float64\n",
      " 1   cut      53940 non-null  object \n",
      " 2   color    53940 non-null  object \n",
      " 3   clarity  53940 non-null  object \n",
      " 4   depth    53940 non-null  float64\n",
      " 5   table    53940 non-null  float64\n",
      " 6   price    53940 non-null  int64  \n",
      " 7   x        53940 non-null  float64\n",
      " 8   y        53940 non-null  float64\n",
      " 9   z        53940 non-null  float64\n",
      "dtypes: float64(6), int64(1), object(3)\n",
      "memory usage: 4.1+ MB\n"
     ]
    }
   ],
   "source": [
    "# Load Data\n",
    "df = pd.read_csv('diamonds.csv')\n",
    "df.info()"
   ]
  },
  {
   "cell_type": "markdown",
   "id": "6d51f0e0",
   "metadata": {
    "slideshow": {
     "slide_type": "slide"
    }
   },
   "source": [
    "# Data manipulation in Pandas\n",
    "- Once a data set is loaded in, we can do quite a few things to help us navigate through the data set."
   ]
  },
  {
   "cell_type": "markdown",
   "id": "03c264c5",
   "metadata": {
    "slideshow": {
     "slide_type": "slide"
    }
   },
   "source": [
    "## Introduction\n",
    "- For example:"
   ]
  },
  {
   "cell_type": "code",
   "execution_count": 5,
   "id": "de20926f",
   "metadata": {
    "slideshow": {
     "slide_type": "-"
    }
   },
   "outputs": [
    {
     "data": {
      "text/html": [
       "<div>\n",
       "<style scoped>\n",
       "    .dataframe tbody tr th:only-of-type {\n",
       "        vertical-align: middle;\n",
       "    }\n",
       "\n",
       "    .dataframe tbody tr th {\n",
       "        vertical-align: top;\n",
       "    }\n",
       "\n",
       "    .dataframe thead th {\n",
       "        text-align: right;\n",
       "    }\n",
       "</style>\n",
       "<table border=\"1\" class=\"dataframe\">\n",
       "  <thead>\n",
       "    <tr style=\"text-align: right;\">\n",
       "      <th></th>\n",
       "      <th>carat</th>\n",
       "      <th>cut</th>\n",
       "      <th>color</th>\n",
       "      <th>clarity</th>\n",
       "      <th>depth</th>\n",
       "      <th>table</th>\n",
       "      <th>price</th>\n",
       "      <th>x</th>\n",
       "      <th>y</th>\n",
       "      <th>z</th>\n",
       "    </tr>\n",
       "  </thead>\n",
       "  <tbody>\n",
       "    <tr>\n",
       "      <th>0</th>\n",
       "      <td>0.23</td>\n",
       "      <td>Ideal</td>\n",
       "      <td>E</td>\n",
       "      <td>SI2</td>\n",
       "      <td>61.5</td>\n",
       "      <td>55.0</td>\n",
       "      <td>326</td>\n",
       "      <td>3.95</td>\n",
       "      <td>3.98</td>\n",
       "      <td>2.43</td>\n",
       "    </tr>\n",
       "    <tr>\n",
       "      <th>1</th>\n",
       "      <td>0.21</td>\n",
       "      <td>Premium</td>\n",
       "      <td>E</td>\n",
       "      <td>SI1</td>\n",
       "      <td>59.8</td>\n",
       "      <td>61.0</td>\n",
       "      <td>326</td>\n",
       "      <td>3.89</td>\n",
       "      <td>3.84</td>\n",
       "      <td>2.31</td>\n",
       "    </tr>\n",
       "    <tr>\n",
       "      <th>2</th>\n",
       "      <td>0.23</td>\n",
       "      <td>Good</td>\n",
       "      <td>E</td>\n",
       "      <td>VS1</td>\n",
       "      <td>56.9</td>\n",
       "      <td>65.0</td>\n",
       "      <td>327</td>\n",
       "      <td>4.05</td>\n",
       "      <td>4.07</td>\n",
       "      <td>2.31</td>\n",
       "    </tr>\n",
       "    <tr>\n",
       "      <th>3</th>\n",
       "      <td>0.29</td>\n",
       "      <td>Premium</td>\n",
       "      <td>I</td>\n",
       "      <td>VS2</td>\n",
       "      <td>62.4</td>\n",
       "      <td>58.0</td>\n",
       "      <td>334</td>\n",
       "      <td>4.20</td>\n",
       "      <td>4.23</td>\n",
       "      <td>2.63</td>\n",
       "    </tr>\n",
       "    <tr>\n",
       "      <th>4</th>\n",
       "      <td>0.31</td>\n",
       "      <td>Good</td>\n",
       "      <td>J</td>\n",
       "      <td>SI2</td>\n",
       "      <td>63.3</td>\n",
       "      <td>58.0</td>\n",
       "      <td>335</td>\n",
       "      <td>4.34</td>\n",
       "      <td>4.35</td>\n",
       "      <td>2.75</td>\n",
       "    </tr>\n",
       "  </tbody>\n",
       "</table>\n",
       "</div>"
      ],
      "text/plain": [
       "   carat      cut color clarity  depth  table  price     x     y     z\n",
       "0   0.23    Ideal     E     SI2   61.5   55.0    326  3.95  3.98  2.43\n",
       "1   0.21  Premium     E     SI1   59.8   61.0    326  3.89  3.84  2.31\n",
       "2   0.23     Good     E     VS1   56.9   65.0    327  4.05  4.07  2.31\n",
       "3   0.29  Premium     I     VS2   62.4   58.0    334  4.20  4.23  2.63\n",
       "4   0.31     Good     J     SI2   63.3   58.0    335  4.34  4.35  2.75"
      ]
     },
     "execution_count": 5,
     "metadata": {},
     "output_type": "execute_result"
    }
   ],
   "source": [
    "df.head() # prints the first 5 rows"
   ]
  },
  {
   "cell_type": "markdown",
   "id": "1a25b49e",
   "metadata": {
    "slideshow": {
     "slide_type": "slide"
    }
   },
   "source": [
    "- We may also show the first \"X\" rows:"
   ]
  },
  {
   "cell_type": "code",
   "execution_count": 6,
   "id": "9408c23f",
   "metadata": {
    "slideshow": {
     "slide_type": "-"
    }
   },
   "outputs": [
    {
     "data": {
      "text/html": [
       "<div>\n",
       "<style scoped>\n",
       "    .dataframe tbody tr th:only-of-type {\n",
       "        vertical-align: middle;\n",
       "    }\n",
       "\n",
       "    .dataframe tbody tr th {\n",
       "        vertical-align: top;\n",
       "    }\n",
       "\n",
       "    .dataframe thead th {\n",
       "        text-align: right;\n",
       "    }\n",
       "</style>\n",
       "<table border=\"1\" class=\"dataframe\">\n",
       "  <thead>\n",
       "    <tr style=\"text-align: right;\">\n",
       "      <th></th>\n",
       "      <th>carat</th>\n",
       "      <th>cut</th>\n",
       "      <th>color</th>\n",
       "      <th>clarity</th>\n",
       "      <th>depth</th>\n",
       "      <th>table</th>\n",
       "      <th>price</th>\n",
       "      <th>x</th>\n",
       "      <th>y</th>\n",
       "      <th>z</th>\n",
       "    </tr>\n",
       "  </thead>\n",
       "  <tbody>\n",
       "    <tr>\n",
       "      <th>0</th>\n",
       "      <td>0.23</td>\n",
       "      <td>Ideal</td>\n",
       "      <td>E</td>\n",
       "      <td>SI2</td>\n",
       "      <td>61.5</td>\n",
       "      <td>55.0</td>\n",
       "      <td>326</td>\n",
       "      <td>3.95</td>\n",
       "      <td>3.98</td>\n",
       "      <td>2.43</td>\n",
       "    </tr>\n",
       "    <tr>\n",
       "      <th>1</th>\n",
       "      <td>0.21</td>\n",
       "      <td>Premium</td>\n",
       "      <td>E</td>\n",
       "      <td>SI1</td>\n",
       "      <td>59.8</td>\n",
       "      <td>61.0</td>\n",
       "      <td>326</td>\n",
       "      <td>3.89</td>\n",
       "      <td>3.84</td>\n",
       "      <td>2.31</td>\n",
       "    </tr>\n",
       "    <tr>\n",
       "      <th>2</th>\n",
       "      <td>0.23</td>\n",
       "      <td>Good</td>\n",
       "      <td>E</td>\n",
       "      <td>VS1</td>\n",
       "      <td>56.9</td>\n",
       "      <td>65.0</td>\n",
       "      <td>327</td>\n",
       "      <td>4.05</td>\n",
       "      <td>4.07</td>\n",
       "      <td>2.31</td>\n",
       "    </tr>\n",
       "    <tr>\n",
       "      <th>3</th>\n",
       "      <td>0.29</td>\n",
       "      <td>Premium</td>\n",
       "      <td>I</td>\n",
       "      <td>VS2</td>\n",
       "      <td>62.4</td>\n",
       "      <td>58.0</td>\n",
       "      <td>334</td>\n",
       "      <td>4.20</td>\n",
       "      <td>4.23</td>\n",
       "      <td>2.63</td>\n",
       "    </tr>\n",
       "    <tr>\n",
       "      <th>4</th>\n",
       "      <td>0.31</td>\n",
       "      <td>Good</td>\n",
       "      <td>J</td>\n",
       "      <td>SI2</td>\n",
       "      <td>63.3</td>\n",
       "      <td>58.0</td>\n",
       "      <td>335</td>\n",
       "      <td>4.34</td>\n",
       "      <td>4.35</td>\n",
       "      <td>2.75</td>\n",
       "    </tr>\n",
       "    <tr>\n",
       "      <th>5</th>\n",
       "      <td>0.24</td>\n",
       "      <td>Very Good</td>\n",
       "      <td>J</td>\n",
       "      <td>VVS2</td>\n",
       "      <td>62.8</td>\n",
       "      <td>57.0</td>\n",
       "      <td>336</td>\n",
       "      <td>3.94</td>\n",
       "      <td>3.96</td>\n",
       "      <td>2.48</td>\n",
       "    </tr>\n",
       "    <tr>\n",
       "      <th>6</th>\n",
       "      <td>0.24</td>\n",
       "      <td>Very Good</td>\n",
       "      <td>I</td>\n",
       "      <td>VVS1</td>\n",
       "      <td>62.3</td>\n",
       "      <td>57.0</td>\n",
       "      <td>336</td>\n",
       "      <td>3.95</td>\n",
       "      <td>3.98</td>\n",
       "      <td>2.47</td>\n",
       "    </tr>\n",
       "    <tr>\n",
       "      <th>7</th>\n",
       "      <td>0.26</td>\n",
       "      <td>Very Good</td>\n",
       "      <td>H</td>\n",
       "      <td>SI1</td>\n",
       "      <td>61.9</td>\n",
       "      <td>55.0</td>\n",
       "      <td>337</td>\n",
       "      <td>4.07</td>\n",
       "      <td>4.11</td>\n",
       "      <td>2.53</td>\n",
       "    </tr>\n",
       "    <tr>\n",
       "      <th>8</th>\n",
       "      <td>0.22</td>\n",
       "      <td>Fair</td>\n",
       "      <td>E</td>\n",
       "      <td>VS2</td>\n",
       "      <td>65.1</td>\n",
       "      <td>61.0</td>\n",
       "      <td>337</td>\n",
       "      <td>3.87</td>\n",
       "      <td>3.78</td>\n",
       "      <td>2.49</td>\n",
       "    </tr>\n",
       "    <tr>\n",
       "      <th>9</th>\n",
       "      <td>0.23</td>\n",
       "      <td>Very Good</td>\n",
       "      <td>H</td>\n",
       "      <td>VS1</td>\n",
       "      <td>59.4</td>\n",
       "      <td>61.0</td>\n",
       "      <td>338</td>\n",
       "      <td>4.00</td>\n",
       "      <td>4.05</td>\n",
       "      <td>2.39</td>\n",
       "    </tr>\n",
       "  </tbody>\n",
       "</table>\n",
       "</div>"
      ],
      "text/plain": [
       "   carat        cut color clarity  depth  table  price     x     y     z\n",
       "0   0.23      Ideal     E     SI2   61.5   55.0    326  3.95  3.98  2.43\n",
       "1   0.21    Premium     E     SI1   59.8   61.0    326  3.89  3.84  2.31\n",
       "2   0.23       Good     E     VS1   56.9   65.0    327  4.05  4.07  2.31\n",
       "3   0.29    Premium     I     VS2   62.4   58.0    334  4.20  4.23  2.63\n",
       "4   0.31       Good     J     SI2   63.3   58.0    335  4.34  4.35  2.75\n",
       "5   0.24  Very Good     J    VVS2   62.8   57.0    336  3.94  3.96  2.48\n",
       "6   0.24  Very Good     I    VVS1   62.3   57.0    336  3.95  3.98  2.47\n",
       "7   0.26  Very Good     H     SI1   61.9   55.0    337  4.07  4.11  2.53\n",
       "8   0.22       Fair     E     VS2   65.1   61.0    337  3.87  3.78  2.49\n",
       "9   0.23  Very Good     H     VS1   59.4   61.0    338  4.00  4.05  2.39"
      ]
     },
     "execution_count": 6,
     "metadata": {},
     "output_type": "execute_result"
    }
   ],
   "source": [
    "df.head(10) # prints the first 10 rows"
   ]
  },
  {
   "cell_type": "markdown",
   "id": "924ac767",
   "metadata": {
    "slideshow": {
     "slide_type": "slide"
    }
   },
   "source": [
    "- As well as show the last \"X\" rows:"
   ]
  },
  {
   "cell_type": "code",
   "execution_count": 7,
   "id": "0883f3f8",
   "metadata": {
    "slideshow": {
     "slide_type": "-"
    }
   },
   "outputs": [
    {
     "data": {
      "text/html": [
       "<div>\n",
       "<style scoped>\n",
       "    .dataframe tbody tr th:only-of-type {\n",
       "        vertical-align: middle;\n",
       "    }\n",
       "\n",
       "    .dataframe tbody tr th {\n",
       "        vertical-align: top;\n",
       "    }\n",
       "\n",
       "    .dataframe thead th {\n",
       "        text-align: right;\n",
       "    }\n",
       "</style>\n",
       "<table border=\"1\" class=\"dataframe\">\n",
       "  <thead>\n",
       "    <tr style=\"text-align: right;\">\n",
       "      <th></th>\n",
       "      <th>carat</th>\n",
       "      <th>cut</th>\n",
       "      <th>color</th>\n",
       "      <th>clarity</th>\n",
       "      <th>depth</th>\n",
       "      <th>table</th>\n",
       "      <th>price</th>\n",
       "      <th>x</th>\n",
       "      <th>y</th>\n",
       "      <th>z</th>\n",
       "    </tr>\n",
       "  </thead>\n",
       "  <tbody>\n",
       "    <tr>\n",
       "      <th>53930</th>\n",
       "      <td>0.71</td>\n",
       "      <td>Premium</td>\n",
       "      <td>E</td>\n",
       "      <td>SI1</td>\n",
       "      <td>60.5</td>\n",
       "      <td>55.0</td>\n",
       "      <td>2756</td>\n",
       "      <td>5.79</td>\n",
       "      <td>5.74</td>\n",
       "      <td>3.49</td>\n",
       "    </tr>\n",
       "    <tr>\n",
       "      <th>53931</th>\n",
       "      <td>0.71</td>\n",
       "      <td>Premium</td>\n",
       "      <td>F</td>\n",
       "      <td>SI1</td>\n",
       "      <td>59.8</td>\n",
       "      <td>62.0</td>\n",
       "      <td>2756</td>\n",
       "      <td>5.74</td>\n",
       "      <td>5.73</td>\n",
       "      <td>3.43</td>\n",
       "    </tr>\n",
       "    <tr>\n",
       "      <th>53932</th>\n",
       "      <td>0.70</td>\n",
       "      <td>Very Good</td>\n",
       "      <td>E</td>\n",
       "      <td>VS2</td>\n",
       "      <td>60.5</td>\n",
       "      <td>59.0</td>\n",
       "      <td>2757</td>\n",
       "      <td>5.71</td>\n",
       "      <td>5.76</td>\n",
       "      <td>3.47</td>\n",
       "    </tr>\n",
       "    <tr>\n",
       "      <th>53933</th>\n",
       "      <td>0.70</td>\n",
       "      <td>Very Good</td>\n",
       "      <td>E</td>\n",
       "      <td>VS2</td>\n",
       "      <td>61.2</td>\n",
       "      <td>59.0</td>\n",
       "      <td>2757</td>\n",
       "      <td>5.69</td>\n",
       "      <td>5.72</td>\n",
       "      <td>3.49</td>\n",
       "    </tr>\n",
       "    <tr>\n",
       "      <th>53934</th>\n",
       "      <td>0.72</td>\n",
       "      <td>Premium</td>\n",
       "      <td>D</td>\n",
       "      <td>SI1</td>\n",
       "      <td>62.7</td>\n",
       "      <td>59.0</td>\n",
       "      <td>2757</td>\n",
       "      <td>5.69</td>\n",
       "      <td>5.73</td>\n",
       "      <td>3.58</td>\n",
       "    </tr>\n",
       "    <tr>\n",
       "      <th>53935</th>\n",
       "      <td>0.72</td>\n",
       "      <td>Ideal</td>\n",
       "      <td>D</td>\n",
       "      <td>SI1</td>\n",
       "      <td>60.8</td>\n",
       "      <td>57.0</td>\n",
       "      <td>2757</td>\n",
       "      <td>5.75</td>\n",
       "      <td>5.76</td>\n",
       "      <td>3.50</td>\n",
       "    </tr>\n",
       "    <tr>\n",
       "      <th>53936</th>\n",
       "      <td>0.72</td>\n",
       "      <td>Good</td>\n",
       "      <td>D</td>\n",
       "      <td>SI1</td>\n",
       "      <td>63.1</td>\n",
       "      <td>55.0</td>\n",
       "      <td>2757</td>\n",
       "      <td>5.69</td>\n",
       "      <td>5.75</td>\n",
       "      <td>3.61</td>\n",
       "    </tr>\n",
       "    <tr>\n",
       "      <th>53937</th>\n",
       "      <td>0.70</td>\n",
       "      <td>Very Good</td>\n",
       "      <td>D</td>\n",
       "      <td>SI1</td>\n",
       "      <td>62.8</td>\n",
       "      <td>60.0</td>\n",
       "      <td>2757</td>\n",
       "      <td>5.66</td>\n",
       "      <td>5.68</td>\n",
       "      <td>3.56</td>\n",
       "    </tr>\n",
       "    <tr>\n",
       "      <th>53938</th>\n",
       "      <td>0.86</td>\n",
       "      <td>Premium</td>\n",
       "      <td>H</td>\n",
       "      <td>SI2</td>\n",
       "      <td>61.0</td>\n",
       "      <td>58.0</td>\n",
       "      <td>2757</td>\n",
       "      <td>6.15</td>\n",
       "      <td>6.12</td>\n",
       "      <td>3.74</td>\n",
       "    </tr>\n",
       "    <tr>\n",
       "      <th>53939</th>\n",
       "      <td>0.75</td>\n",
       "      <td>Ideal</td>\n",
       "      <td>D</td>\n",
       "      <td>SI2</td>\n",
       "      <td>62.2</td>\n",
       "      <td>55.0</td>\n",
       "      <td>2757</td>\n",
       "      <td>5.83</td>\n",
       "      <td>5.87</td>\n",
       "      <td>3.64</td>\n",
       "    </tr>\n",
       "  </tbody>\n",
       "</table>\n",
       "</div>"
      ],
      "text/plain": [
       "       carat        cut color clarity  depth  table  price     x     y     z\n",
       "53930   0.71    Premium     E     SI1   60.5   55.0   2756  5.79  5.74  3.49\n",
       "53931   0.71    Premium     F     SI1   59.8   62.0   2756  5.74  5.73  3.43\n",
       "53932   0.70  Very Good     E     VS2   60.5   59.0   2757  5.71  5.76  3.47\n",
       "53933   0.70  Very Good     E     VS2   61.2   59.0   2757  5.69  5.72  3.49\n",
       "53934   0.72    Premium     D     SI1   62.7   59.0   2757  5.69  5.73  3.58\n",
       "53935   0.72      Ideal     D     SI1   60.8   57.0   2757  5.75  5.76  3.50\n",
       "53936   0.72       Good     D     SI1   63.1   55.0   2757  5.69  5.75  3.61\n",
       "53937   0.70  Very Good     D     SI1   62.8   60.0   2757  5.66  5.68  3.56\n",
       "53938   0.86    Premium     H     SI2   61.0   58.0   2757  6.15  6.12  3.74\n",
       "53939   0.75      Ideal     D     SI2   62.2   55.0   2757  5.83  5.87  3.64"
      ]
     },
     "execution_count": 7,
     "metadata": {},
     "output_type": "execute_result"
    }
   ],
   "source": [
    "df.tail(10) # prints the last 10 rows"
   ]
  },
  {
   "cell_type": "markdown",
   "id": "8ac6cb2d",
   "metadata": {
    "slideshow": {
     "slide_type": "slide"
    }
   },
   "source": [
    "## Indexing Data"
   ]
  },
  {
   "cell_type": "markdown",
   "id": "50938f69",
   "metadata": {
    "slideshow": {
     "slide_type": "-"
    }
   },
   "source": [
    "- To access a column, we may either use dictionary-like indexing:"
   ]
  },
  {
   "cell_type": "code",
   "execution_count": 8,
   "id": "38a5d696",
   "metadata": {
    "slideshow": {
     "slide_type": "-"
    }
   },
   "outputs": [
    {
     "data": {
      "text/plain": [
       "0            Ideal\n",
       "1          Premium\n",
       "2             Good\n",
       "3          Premium\n",
       "4             Good\n",
       "           ...    \n",
       "53935        Ideal\n",
       "53936         Good\n",
       "53937    Very Good\n",
       "53938      Premium\n",
       "53939        Ideal\n",
       "Name: cut, Length: 53940, dtype: object"
      ]
     },
     "execution_count": 8,
     "metadata": {},
     "output_type": "execute_result"
    }
   ],
   "source": [
    "df['cut'] # prints the 'cut' column"
   ]
  },
  {
   "cell_type": "markdown",
   "id": "fc187056",
   "metadata": {
    "slideshow": {
     "slide_type": "slide"
    }
   },
   "source": [
    "- or by attribute:"
   ]
  },
  {
   "cell_type": "code",
   "execution_count": 9,
   "id": "6d608a2a",
   "metadata": {
    "slideshow": {
     "slide_type": "-"
    }
   },
   "outputs": [
    {
     "data": {
      "text/plain": [
       "0            Ideal\n",
       "1          Premium\n",
       "2             Good\n",
       "3          Premium\n",
       "4             Good\n",
       "           ...    \n",
       "53935        Ideal\n",
       "53936         Good\n",
       "53937    Very Good\n",
       "53938      Premium\n",
       "53939        Ideal\n",
       "Name: cut, Length: 53940, dtype: object"
      ]
     },
     "execution_count": 9,
     "metadata": {},
     "output_type": "execute_result"
    }
   ],
   "source": [
    "df.cut # prints the 'cut' column"
   ]
  },
  {
   "cell_type": "markdown",
   "id": "980067bc",
   "metadata": {
    "slideshow": {
     "slide_type": "slide"
    }
   },
   "source": [
    "- However, to access a row, we index its `loc` attribute:"
   ]
  },
  {
   "cell_type": "code",
   "execution_count": 10,
   "id": "17ba803c",
   "metadata": {
    "slideshow": {
     "slide_type": "-"
    }
   },
   "outputs": [
    {
     "data": {
      "text/plain": [
       "carat       0.23\n",
       "cut        Ideal\n",
       "color          E\n",
       "clarity      SI2\n",
       "depth       61.5\n",
       "table       55.0\n",
       "price        326\n",
       "x           3.95\n",
       "y           3.98\n",
       "z           2.43\n",
       "Name: 0, dtype: object"
      ]
     },
     "execution_count": 10,
     "metadata": {},
     "output_type": "execute_result"
    }
   ],
   "source": [
    "df.loc[0] # prints the first row"
   ]
  },
  {
   "cell_type": "markdown",
   "id": "52042f71",
   "metadata": {
    "slideshow": {
     "slide_type": "slide"
    }
   },
   "source": [
    "- To access a cell, we combine both attributes:"
   ]
  },
  {
   "cell_type": "code",
   "execution_count": 11,
   "id": "6e42d78c",
   "metadata": {
    "slideshow": {
     "slide_type": "-"
    }
   },
   "outputs": [
    {
     "data": {
      "text/plain": [
       "'Ideal'"
      ]
     },
     "execution_count": 11,
     "metadata": {},
     "output_type": "execute_result"
    }
   ],
   "source": [
    "df.cut.loc[0] # prints the first cell of the 'cut' column"
   ]
  },
  {
   "cell_type": "markdown",
   "id": "c7a97351",
   "metadata": {
    "slideshow": {
     "slide_type": "-"
    }
   },
   "source": [
    "- or use a combination of dictionary-like indexing and the `loc` attribute:"
   ]
  },
  {
   "cell_type": "code",
   "execution_count": 12,
   "id": "43c899b7",
   "metadata": {
    "slideshow": {
     "slide_type": "-"
    }
   },
   "outputs": [
    {
     "data": {
      "text/plain": [
       "'Ideal'"
      ]
     },
     "execution_count": 12,
     "metadata": {},
     "output_type": "execute_result"
    }
   ],
   "source": [
    "df['cut'].loc[0] # prints the first cell of the 'cut' column"
   ]
  },
  {
   "cell_type": "markdown",
   "id": "5c577798",
   "metadata": {
    "slideshow": {
     "slide_type": "slide"
    }
   },
   "source": [
    "- To find the size of the a Data Frame, we may write:"
   ]
  },
  {
   "cell_type": "code",
   "execution_count": 13,
   "id": "23a6fa67",
   "metadata": {
    "slideshow": {
     "slide_type": "-"
    }
   },
   "outputs": [
    {
     "data": {
      "text/plain": [
       "53940"
      ]
     },
     "execution_count": 13,
     "metadata": {},
     "output_type": "execute_result"
    }
   ],
   "source": [
    "df.shape[0] # prints the amount of rows"
   ]
  },
  {
   "cell_type": "code",
   "execution_count": 14,
   "id": "baaa182b",
   "metadata": {
    "slideshow": {
     "slide_type": "-"
    }
   },
   "outputs": [
    {
     "data": {
      "text/plain": [
       "10"
      ]
     },
     "execution_count": 14,
     "metadata": {},
     "output_type": "execute_result"
    }
   ],
   "source": [
    "df.shape[1] # prints the amount of columns"
   ]
  },
  {
   "cell_type": "markdown",
   "id": "242a83b2",
   "metadata": {
    "slideshow": {
     "slide_type": "slide"
    }
   },
   "source": [
    "## Manipulating Data\n",
    "- Question: How do we transform/add/delete data?"
   ]
  },
  {
   "cell_type": "markdown",
   "id": "d0c6f4b8",
   "metadata": {
    "slideshow": {
     "slide_type": "slide"
    }
   },
   "source": [
    "## Working Example: Transforming Data"
   ]
  },
  {
   "cell_type": "markdown",
   "id": "86390308",
   "metadata": {
    "slideshow": {
     "slide_type": "-"
    }
   },
   "source": [
    "- Let's first start by changing one cell of the original Data Frame:"
   ]
  },
  {
   "cell_type": "code",
   "execution_count": null,
   "id": "3922b700",
   "metadata": {
    "slideshow": {
     "slide_type": "-"
    }
   },
   "outputs": [],
   "source": [
    "df.price.loc[1] = 0 # changes the 2nd cell of 'price'\n",
    "df.head()"
   ]
  },
  {
   "cell_type": "markdown",
   "id": "89438479",
   "metadata": {
    "slideshow": {
     "slide_type": "slide"
    }
   },
   "source": [
    "- If you do not want to manipulate the original Data Frame:"
   ]
  },
  {
   "cell_type": "code",
   "execution_count": null,
   "id": "bd2494a1",
   "metadata": {
    "slideshow": {
     "slide_type": "-"
    }
   },
   "outputs": [],
   "source": [
    "price = df.price.copy() # copies the 'price' column\n",
    "price[1] = 10 # changes the second cell of 'price'\n",
    "df.price.head() # show the first 5 rows of the 'price' column"
   ]
  },
  {
   "cell_type": "code",
   "execution_count": null,
   "id": "ab326196",
   "metadata": {
    "slideshow": {
     "slide_type": "-"
    }
   },
   "outputs": [],
   "source": [
    "price.head()"
   ]
  },
  {
   "cell_type": "markdown",
   "id": "fe5a996f",
   "metadata": {
    "slideshow": {
     "slide_type": "slide"
    }
   },
   "source": [
    "- To ignore warnings, as well as change multiple cells, we implement:"
   ]
  },
  {
   "cell_type": "code",
   "execution_count": null,
   "id": "8b2964a1",
   "metadata": {
    "slideshow": {
     "slide_type": "-"
    }
   },
   "outputs": [],
   "source": [
    "# Import warnings package\n",
    "import warnings\n",
    "warnings.filterwarnings('ignore')\n",
    "# Changes the 2nd, 3rd, and 4th cell of the 'price' column\n",
    "df.price[[1,2,3]] = [100,100,100]\n",
    "df.price.head()"
   ]
  },
  {
   "cell_type": "markdown",
   "id": "48b0b9cb",
   "metadata": {
    "slideshow": {
     "slide_type": "slide"
    }
   },
   "source": [
    "## Working Example: Adding Data"
   ]
  },
  {
   "cell_type": "markdown",
   "id": "a3a51eab",
   "metadata": {
    "slideshow": {
     "slide_type": "-"
    }
   },
   "source": [
    "- To add a column:"
   ]
  },
  {
   "cell_type": "code",
   "execution_count": null,
   "id": "ae56fd78",
   "metadata": {
    "scrolled": true,
    "slideshow": {
     "slide_type": "-"
    }
   },
   "outputs": [],
   "source": [
    "df['price per carat'] = df.price/df.carat # add 'price per carat' column\n",
    "df.head()"
   ]
  },
  {
   "cell_type": "markdown",
   "id": "6efe9df8",
   "metadata": {
    "slideshow": {
     "slide_type": "slide"
    }
   },
   "source": [
    "<font color='red'>NOTE</font>: we cannot use the attribute indexing method to add a column:"
   ]
  },
  {
   "cell_type": "code",
   "execution_count": null,
   "id": "bb5f8a6c",
   "metadata": {
    "slideshow": {
     "slide_type": "-"
    }
   },
   "outputs": [],
   "source": [
    "df.year = 2023\n",
    "df.head()"
   ]
  },
  {
   "cell_type": "code",
   "execution_count": null,
   "id": "73f4fc47",
   "metadata": {
    "slideshow": {
     "slide_type": "-"
    }
   },
   "outputs": [],
   "source": [
    "df.year"
   ]
  },
  {
   "cell_type": "markdown",
   "id": "3892b2db",
   "metadata": {
    "slideshow": {
     "slide_type": "slide"
    }
   },
   "source": [
    "- To add a row, we may use `.append()`:"
   ]
  },
  {
   "cell_type": "code",
   "execution_count": null,
   "id": "68609cb4",
   "metadata": {
    "slideshow": {
     "slide_type": "-"
    }
   },
   "outputs": [],
   "source": [
    "newSample1 = {'carat':0.10,'cut':'Ideal','color':'J','clarity':'SI1','depth':60.0,'table':58.0,'price':100,'x':3.89,'y':3.98,'z':2.63,'price per carat':1000}\n",
    "df = df.append(newSample1,ignore_index = True) # add a new row\n",
    "df.tail()"
   ]
  },
  {
   "cell_type": "markdown",
   "id": "bf633a40",
   "metadata": {
    "slideshow": {
     "slide_type": "slide"
    }
   },
   "source": [
    "## Working Example: Deleting Data"
   ]
  },
  {
   "cell_type": "markdown",
   "id": "82835d0d",
   "metadata": {
    "slideshow": {
     "slide_type": "-"
    }
   },
   "source": [
    "- To delete rows or columns, we may use `.drop()` **which drops rows by default**:"
   ]
  },
  {
   "cell_type": "code",
   "execution_count": null,
   "id": "5e3358f7",
   "metadata": {
    "slideshow": {
     "slide_type": "-"
    }
   },
   "outputs": [],
   "source": [
    "df.drop(df.index[-1],inplace = True) # drop the last row\n",
    "df.tail(3)"
   ]
  },
  {
   "cell_type": "code",
   "execution_count": null,
   "id": "7fa8b9d7",
   "metadata": {
    "slideshow": {
     "slide_type": "-"
    }
   },
   "outputs": [],
   "source": [
    "df.drop(columns = ['price per carat'],inplace = True) # drop 'price per carat'\n",
    "df.head(3)"
   ]
  },
  {
   "cell_type": "markdown",
   "id": "e68a8a96",
   "metadata": {
    "slideshow": {
     "slide_type": "slide"
    }
   },
   "source": [
    "## Operations"
   ]
  },
  {
   "cell_type": "markdown",
   "id": "ea335971",
   "metadata": {
    "slideshow": {
     "slide_type": "-"
    }
   },
   "source": [
    "- As expected, we may use all arithmetic operations `(+,-,*,/,etc.)` on the columns of a Data Frame.\n",
    "- For example:"
   ]
  },
  {
   "cell_type": "code",
   "execution_count": null,
   "id": "c370ac57",
   "metadata": {
    "slideshow": {
     "slide_type": "-"
    }
   },
   "outputs": [],
   "source": [
    "xyz1 = (df.x + df.y) * (df.z / (df.y - df.x))\n",
    "xyz1.head(3)"
   ]
  },
  {
   "cell_type": "code",
   "execution_count": null,
   "id": "135ed884",
   "metadata": {
    "slideshow": {
     "slide_type": "-"
    }
   },
   "outputs": [],
   "source": [
    "xyz2 = (df.x.loc[0] + df.y.loc[0]) * (df.z.loc[0] / (df.y.loc[0] - df.x.loc[0]))\n",
    "xyz2"
   ]
  },
  {
   "cell_type": "markdown",
   "id": "007802dd",
   "metadata": {
    "slideshow": {
     "slide_type": "slide"
    }
   },
   "source": [
    "- If, however, we have missing data values in some places and we don't want the operation to continue with the `NaN` label, we may implement commands `.add()`, `.sub()`, `.mul()`, `.div()`, etc. with argument `fill_value = 0`."
   ]
  },
  {
   "cell_type": "markdown",
   "id": "489646c3",
   "metadata": {
    "slideshow": {
     "slide_type": "slide"
    }
   },
   "source": [
    "- For example:"
   ]
  },
  {
   "cell_type": "code",
   "execution_count": null,
   "id": "b22ca516",
   "metadata": {
    "slideshow": {
     "slide_type": "-"
    }
   },
   "outputs": [],
   "source": [
    "# Import numpy package\n",
    "import numpy as np\n",
    "df.y.loc[0] = np.nan # sets the first cell to be a NaN\n",
    "df.y.head(3)"
   ]
  },
  {
   "cell_type": "code",
   "execution_count": null,
   "id": "68513ad4",
   "metadata": {
    "slideshow": {
     "slide_type": "slide"
    }
   },
   "outputs": [],
   "source": [
    "xyz3 = df.x + df.y\n",
    "xyz3.head(3)"
   ]
  },
  {
   "cell_type": "code",
   "execution_count": null,
   "id": "4b7da521",
   "metadata": {
    "slideshow": {
     "slide_type": "-"
    }
   },
   "outputs": [],
   "source": [
    "xyz4 = df.x.add(df.y,fill_value = 0)\n",
    "xyz4.head(3)"
   ]
  },
  {
   "cell_type": "markdown",
   "id": "0f10ccee",
   "metadata": {
    "slideshow": {
     "slide_type": "slide"
    }
   },
   "source": [
    "## Sorting\n",
    "- Pandas also includes a `.sort_values()` attribute that allows for the re-ordering of data.\n",
    "- For example:"
   ]
  },
  {
   "cell_type": "code",
   "execution_count": null,
   "id": "2b2ea0f3",
   "metadata": {
    "slideshow": {
     "slide_type": "-"
    }
   },
   "outputs": [],
   "source": [
    "df.sort_values(['price','carat'], ascending = False, inplace = True)\n",
    "df.head(3)"
   ]
  },
  {
   "cell_type": "code",
   "execution_count": null,
   "id": "01ae7adb",
   "metadata": {
    "slideshow": {
     "slide_type": "slide"
    }
   },
   "outputs": [],
   "source": [
    "df.sort_values('price', ascending = True, inplace = True)\n",
    "df.head(3)"
   ]
  },
  {
   "cell_type": "markdown",
   "id": "75618e0e",
   "metadata": {
    "slideshow": {
     "slide_type": "slide"
    }
   },
   "source": [
    "- To re-order the Data Frame, we may use the `.sort_index()` attribute"
   ]
  },
  {
   "cell_type": "code",
   "execution_count": null,
   "id": "0452b41f",
   "metadata": {
    "slideshow": {
     "slide_type": "-"
    }
   },
   "outputs": [],
   "source": [
    "df.sort_index(inplace = True)\n",
    "df.head()"
   ]
  },
  {
   "cell_type": "markdown",
   "id": "18588244",
   "metadata": {
    "slideshow": {
     "slide_type": "slide"
    }
   },
   "source": [
    "- and to sort the columns instead of the rows, we use:"
   ]
  },
  {
   "cell_type": "code",
   "execution_count": null,
   "id": "15d6d80b",
   "metadata": {
    "slideshow": {
     "slide_type": "-"
    }
   },
   "outputs": [],
   "source": [
    "df.sort_index(axis = 1, inplace = True)\n",
    "df.head()"
   ]
  },
  {
   "cell_type": "markdown",
   "id": "bd3f4d1c",
   "metadata": {
    "slideshow": {
     "slide_type": "slide"
    }
   },
   "source": [
    "## Missing Data\n",
    "- In the event of the Data Frame missing values, we may use a couple of integrated methods in Pandas that allows for seemless data handling\n",
    "- For example:"
   ]
  },
  {
   "cell_type": "code",
   "execution_count": null,
   "id": "2b3b0679",
   "metadata": {
    "slideshow": {
     "slide_type": "-"
    }
   },
   "outputs": [],
   "source": [
    "df.dropna(inplace = True) # drops entire rows in which one or more values are missing\n",
    "df.dropna(how = 'all', inplace = True) # drops entire rows if all values are missing\n",
    "df.fillna(0, inplace = True) # fills missing values with 0"
   ]
  },
  {
   "cell_type": "markdown",
   "id": "30f1ae00",
   "metadata": {
    "slideshow": {
     "slide_type": "slide"
    }
   },
   "source": [
    "- In the event we have *too* much data, we may use the `.drop_duplicates()` attribute.\n",
    "- For example:"
   ]
  },
  {
   "cell_type": "code",
   "execution_count": null,
   "id": "4760177e",
   "metadata": {
    "slideshow": {
     "slide_type": "-"
    }
   },
   "outputs": [],
   "source": [
    "df.drop_duplicates('cut', inplace = True)\n",
    "df"
   ]
  },
  {
   "cell_type": "code",
   "execution_count": null,
   "id": "b98a41c6",
   "metadata": {
    "slideshow": {
     "slide_type": "skip"
    }
   },
   "outputs": [],
   "source": [
    "# Load Data\n",
    "df = pd.read_csv('diamonds.csv')"
   ]
  },
  {
   "cell_type": "markdown",
   "id": "50a1ed6b",
   "metadata": {
    "slideshow": {
     "slide_type": "slide"
    }
   },
   "source": [
    "## Data Summary\n",
    "- It is often required to summarize data in some form. As such,"
   ]
  },
  {
   "cell_type": "code",
   "execution_count": null,
   "id": "155301f8",
   "metadata": {
    "slideshow": {
     "slide_type": "slide"
    }
   },
   "outputs": [],
   "source": [
    "df.sum(numeric_only = True) # sums all numerical columns"
   ]
  },
  {
   "cell_type": "code",
   "execution_count": null,
   "id": "f0e07d79",
   "metadata": {
    "slideshow": {
     "slide_type": "slide"
    }
   },
   "outputs": [],
   "source": [
    "df.mean(numeric_only=True) # finds the mean for all numerical columns"
   ]
  },
  {
   "cell_type": "code",
   "execution_count": null,
   "id": "b72c9056",
   "metadata": {
    "slideshow": {
     "slide_type": "slide"
    }
   },
   "outputs": [],
   "source": [
    "df.describe() # provides basic statistics for all numerical columns"
   ]
  },
  {
   "cell_type": "markdown",
   "id": "c78ef4ec",
   "metadata": {
    "slideshow": {
     "slide_type": "slide"
    }
   },
   "source": [
    "## Merging/Joining `DataFrames`\n",
    "- If we were to have two or more similar Data Frames, we may wish to combine them to create one Data Frame containing all relevant information.\n",
    "- To demontrate how to Merge/Join Data Frames, let's first start by create two arbitrary Data Frames."
   ]
  },
  {
   "cell_type": "code",
   "execution_count": null,
   "id": "a413ac93",
   "metadata": {
    "slideshow": {
     "slide_type": "slide"
    }
   },
   "outputs": [],
   "source": [
    "# Create Data\n",
    "df1 = pd.DataFrame(dict(id=range(4), age=np.random.randint(18, 31, size=4)))\n",
    "df2 = pd.DataFrame(dict(id=list(range(3))+list(range(3)), \n",
    "                        grade=np.random.randint(0, 100, size=6)))\n",
    "df1"
   ]
  },
  {
   "cell_type": "code",
   "execution_count": null,
   "id": "08f454b6",
   "metadata": {
    "slideshow": {
     "slide_type": "-"
    }
   },
   "outputs": [],
   "source": [
    "df2"
   ]
  },
  {
   "cell_type": "markdown",
   "id": "9e520b65",
   "metadata": {
    "slideshow": {
     "slide_type": "slide"
    }
   },
   "source": [
    "- To simply merge two Data Frames, we use:"
   ]
  },
  {
   "cell_type": "code",
   "execution_count": null,
   "id": "d25f544d",
   "metadata": {
    "slideshow": {
     "slide_type": "-"
    }
   },
   "outputs": [],
   "source": [
    "new_df = pd.merge(df1,df2)\n",
    "new_df"
   ]
  },
  {
   "cell_type": "markdown",
   "id": "9895e958",
   "metadata": {
    "slideshow": {
     "slide_type": "slide"
    }
   },
   "source": [
    "So, two things:\n",
    "- Notice that we merged using the `id` column. This is done because Pandas uses common columns as keys for merging Data Frames by default.\n",
    "- Also notice that `id = 3` from `df1` was omitted from the new merged Data Frame; this is because `.merge()` performs an **inner join** by default.\n",
    "\n",
    "- **Inner join** just means that only common `id` values (or merge indexes) that appear in both data sets are kept."
   ]
  },
  {
   "cell_type": "markdown",
   "id": "1dba55ef",
   "metadata": {
    "slideshow": {
     "slide_type": "slide"
    }
   },
   "source": [
    "- To perform an **outer join** that keeps all information, we use:"
   ]
  },
  {
   "cell_type": "code",
   "execution_count": null,
   "id": "de9ca8bf",
   "metadata": {
    "slideshow": {
     "slide_type": "-"
    }
   },
   "outputs": [],
   "source": [
    "new_df = pd.merge(df1,df2,how='outer')\n",
    "new_df"
   ]
  },
  {
   "cell_type": "markdown",
   "id": "7d70f3a3",
   "metadata": {
    "slideshow": {
     "slide_type": "-"
    }
   },
   "source": [
    "- Since `id = 3` did not have a grade, `NaN` was placed instead."
   ]
  },
  {
   "cell_type": "markdown",
   "id": "5fa2b543",
   "metadata": {},
   "source": [
    "- We may also use a **left merge** or **right merge** that is a combination of the two! (i.e. **left merge** keeps all information from the left Data Frame and **right merge** follows.)"
   ]
  },
  {
   "cell_type": "markdown",
   "id": "2a7d2df6",
   "metadata": {
    "slideshow": {
     "slide_type": "slide"
    }
   },
   "source": [
    "## Writing Data to Files\n",
    "- Finally, to save all of our hard work, we may use the `.to_csv()` attribute to write a Data Frame to a `csv` file.\n",
    "- For example:"
   ]
  },
  {
   "cell_type": "code",
   "execution_count": null,
   "id": "9f2578b1",
   "metadata": {
    "slideshow": {
     "slide_type": "-"
    }
   },
   "outputs": [],
   "source": [
    "new_df.to_csv('data.csv')"
   ]
  },
  {
   "cell_type": "markdown",
   "id": "d8f07caf",
   "metadata": {
    "slideshow": {
     "slide_type": "slide"
    }
   },
   "source": [
    "# Data Visualization"
   ]
  },
  {
   "cell_type": "markdown",
   "id": "d71218dc",
   "metadata": {
    "slideshow": {
     "slide_type": "slide"
    }
   },
   "source": [
    "## Uses for Data Visualization\n",
    "- To support newly discovered information **(analysis)**\n",
    "    - Finding previously unseen relationships\n",
    "    - Discovering structure\n",
    "    - Quantifying values and influences\n",
    "- Inform/Persuade others **(communication)**\n",
    "    - Capture attention\n",
    "    - Visually tell a story\n",
    "- Evaluate potential courses of action **(decision-making)**"
   ]
  },
  {
   "cell_type": "markdown",
   "id": "06e037a8",
   "metadata": {
    "slideshow": {
     "slide_type": "slide"
    }
   },
   "source": [
    "## Standard Data Visualization Road Map\n",
    "- **Ask** an interesting question\n",
    "- **Gather** data\n",
    "- **Explore** data\n",
    "- **Model** data\n",
    "- **Communicate** and visualize the results"
   ]
  },
  {
   "cell_type": "markdown",
   "id": "286aecdd",
   "metadata": {
    "slideshow": {
     "slide_type": "slide"
    }
   },
   "source": [
    "## Plot Selection"
   ]
  },
  {
   "cell_type": "markdown",
   "id": "4382001f",
   "metadata": {
    "slideshow": {
     "slide_type": "-"
    }
   },
   "source": [
    "## Single Variable\n",
    "- **Histograms** are used to visualize discrete or continuous variables as well as allow the audience to see different types of distributions easier.\n",
    "- For example:"
   ]
  },
  {
   "cell_type": "code",
   "execution_count": null,
   "id": "5dad8345",
   "metadata": {
    "slideshow": {
     "slide_type": "slide"
    }
   },
   "outputs": [],
   "source": [
    "# Import matplotlib.pyplot\n",
    "import matplotlib.pyplot as plt\n",
    "# Plot histogram\n",
    "df.hist('price',bins = 100)\n",
    "plt.xlabel('Price')\n",
    "plt.ylabel('Frequency')\n",
    "plt.title('Histogram of Diamond Price')"
   ]
  },
  {
   "cell_type": "markdown",
   "id": "151e38af",
   "metadata": {
    "slideshow": {
     "slide_type": "slide"
    }
   },
   "source": [
    "- In a similar vein, we have **boxplots** which are simplications of historgrams:"
   ]
  },
  {
   "cell_type": "code",
   "execution_count": null,
   "id": "a5e6ffeb",
   "metadata": {
    "slideshow": {
     "slide_type": "-"
    }
   },
   "outputs": [],
   "source": [
    "# Plot boxplot\n",
    "df.boxplot('price')\n",
    "plt.xticks([])\n",
    "plt.title('Prices of Diamonds')"
   ]
  },
  {
   "cell_type": "markdown",
   "id": "db5de1ae",
   "metadata": {
    "slideshow": {
     "slide_type": "slide"
    }
   },
   "source": [
    "## Two Variables\n",
    "- If we would like to see a time-dependent variable, we may then use **line plots**.\n",
    "- For example:"
   ]
  },
  {
   "cell_type": "code",
   "execution_count": null,
   "id": "a67bfa56",
   "metadata": {},
   "outputs": [],
   "source": [
    "# Import data\n",
    "time_df = pd.read_excel('airquality.xlsx')"
   ]
  },
  {
   "cell_type": "markdown",
   "id": "5861de25",
   "metadata": {
    "slideshow": {
     "slide_type": "slide"
    }
   },
   "source": [
    "- Another option here is **scatter plots**:"
   ]
  },
  {
   "cell_type": "code",
   "execution_count": null,
   "id": "982a3818",
   "metadata": {
    "slideshow": {
     "slide_type": "-"
    }
   },
   "outputs": [],
   "source": [
    "# Plot scatter plot\n",
    "df.plot.scatter(x = 'carat', y = 'price')\n",
    "plt.title('Price per Carat')"
   ]
  },
  {
   "cell_type": "markdown",
   "id": "74095431",
   "metadata": {
    "slideshow": {
     "slide_type": "-"
    }
   },
   "source": [
    "- Notice here that the data points overlap and create a giant blob in the middle. To remedy this, let's decrease the data point size."
   ]
  },
  {
   "cell_type": "code",
   "execution_count": null,
   "id": "141722ae",
   "metadata": {
    "slideshow": {
     "slide_type": "slide"
    }
   },
   "outputs": [],
   "source": [
    "# Plot scatter plot\n",
    "df.plot.scatter(x = 'carat', y = 'price', s = 2)\n",
    "plt.title('Price per Carat')"
   ]
  },
  {
   "cell_type": "markdown",
   "id": "f131425e",
   "metadata": {
    "slideshow": {
     "slide_type": "-"
    }
   },
   "source": [
    "- Now while this is an improvement, there is still too many data points to really study the behavior of our data. This is where the Seaborn library shows its strengths!"
   ]
  },
  {
   "cell_type": "code",
   "execution_count": null,
   "id": "ece20d2d",
   "metadata": {
    "slideshow": {
     "slide_type": "slide"
    }
   },
   "outputs": [],
   "source": [
    "# Import seaborn packcage\n",
    "import seaborn as sns\n",
    "sns.jointplot(data = df, x = 'carat', y = 'price', s = 2)"
   ]
  },
  {
   "cell_type": "code",
   "execution_count": null,
   "id": "289cbfff",
   "metadata": {
    "slideshow": {
     "slide_type": "slide"
    }
   },
   "outputs": [],
   "source": [
    "# Shows marignal histographs with a bivariate histogram using hexagonal bins\n",
    "sns.jointplot(data = df, x = 'carat', y = 'price', kind = 'hex')"
   ]
  },
  {
   "cell_type": "code",
   "execution_count": null,
   "id": "eca84110",
   "metadata": {
    "slideshow": {
     "slide_type": "slide"
    }
   },
   "outputs": [],
   "source": [
    "# Plots a scatter plot and marginal histograms with a linear regression\n",
    "sns.jointplot(data = df, x = 'carat', y = 'price', kind = 'reg', scatter_kws={'s': 2})"
   ]
  },
  {
   "cell_type": "code",
   "execution_count": null,
   "id": "af264551",
   "metadata": {
    "slideshow": {
     "slide_type": "slide"
    }
   },
   "outputs": [],
   "source": [
    "# Shows multiple boxplots\n",
    "sns.boxplot(data = df, x = 'color', y = 'price')"
   ]
  },
  {
   "cell_type": "code",
   "execution_count": null,
   "id": "7c0b6bed",
   "metadata": {
    "slideshow": {
     "slide_type": "slide"
    }
   },
   "outputs": [],
   "source": [
    "# Shows the boxplots for only J, I, H, G\n",
    "sns.boxplot(data = df.loc[df['color'].isin(['J','I','H','G'])], x = 'color', y = 'price')"
   ]
  },
  {
   "cell_type": "markdown",
   "id": "530bc2e3",
   "metadata": {
    "slideshow": {
     "slide_type": "slide"
    }
   },
   "source": [
    "## >Two Variables"
   ]
  },
  {
   "cell_type": "code",
   "execution_count": null,
   "id": "9736f9d5",
   "metadata": {
    "slideshow": {
     "slide_type": "slide"
    }
   },
   "outputs": [],
   "source": [
    "# Adds 'color' to the plot\n",
    "sns.jointplot(data = df, x = 'carat', y = 'price', hue = 'color', s = 2)"
   ]
  },
  {
   "cell_type": "markdown",
   "id": "2fc06f64",
   "metadata": {
    "slideshow": {
     "slide_type": "slide"
    }
   },
   "source": [
    "## General Tips\n",
    "![](chartChooser.jpg)"
   ]
  },
  {
   "cell_type": "markdown",
   "id": "407bd22a",
   "metadata": {
    "slideshow": {
     "slide_type": "slide"
    }
   },
   "source": [
    "## Statisical Analysis\n",
    "- Finally, to get you guys thinking about statistics, let's go over some basic statistical analysis we can do using Data Frames: (all attributes listed are from the `scipy` python package.)\n",
    "    - test"
   ]
  }
 ],
 "metadata": {
  "celltoolbar": "Slideshow",
  "kernelspec": {
   "display_name": "Python 3 (ipykernel)",
   "language": "python",
   "name": "python3"
  },
  "language_info": {
   "codemirror_mode": {
    "name": "ipython",
    "version": 3
   },
   "file_extension": ".py",
   "mimetype": "text/x-python",
   "name": "python",
   "nbconvert_exporter": "python",
   "pygments_lexer": "ipython3",
   "version": "3.10.6"
  }
 },
 "nbformat": 4,
 "nbformat_minor": 5
}
