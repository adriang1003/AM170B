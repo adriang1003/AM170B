{
 "cells": [
  {
   "cell_type": "markdown",
   "id": "519622e5",
   "metadata": {},
   "source": [
    "# Data Reduction Methods\n",
    "By: Adrian Garcia <br>\n",
    "UCSC: AM-170B"
   ]
  },
  {
   "cell_type": "markdown",
   "id": "ec7ea109",
   "metadata": {},
   "source": [
    "## SVD and Its Applications"
   ]
  },
  {
   "cell_type": "markdown",
   "id": "a66a3680",
   "metadata": {},
   "source": [
    "## PCA and Its Applications"
   ]
  },
  {
   "cell_type": "markdown",
   "id": "5583d4ae",
   "metadata": {},
   "source": [
    "## ICA and Its Applications"
   ]
  }
 ],
 "metadata": {
  "kernelspec": {
   "display_name": "Python 3 (ipykernel)",
   "language": "python",
   "name": "python3"
  },
  "language_info": {
   "codemirror_mode": {
    "name": "ipython",
    "version": 3
   },
   "file_extension": ".py",
   "mimetype": "text/x-python",
   "name": "python",
   "nbconvert_exporter": "python",
   "pygments_lexer": "ipython3",
   "version": "3.10.6"
  }
 },
 "nbformat": 4,
 "nbformat_minor": 5
}
